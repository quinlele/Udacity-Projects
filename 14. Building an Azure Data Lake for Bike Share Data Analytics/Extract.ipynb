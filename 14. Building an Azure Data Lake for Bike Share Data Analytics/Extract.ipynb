{
 "cells": [
  {
   "cell_type": "markdown",
   "metadata": {
    "application/vnd.databricks.v1+cell": {
     "cellMetadata": {
      "byteLimit": 2048000,
      "rowLimit": 10000
     },
     "inputWidgets": {},
     "nuid": "c26ba040-99be-4bfd-99b3-cab35fa8065f",
     "showTitle": false,
     "title": ""
    }
   },
   "source": [
    "## Payments"
   ]
  },
  {
   "cell_type": "code",
   "execution_count": 0,
   "metadata": {
    "application/vnd.databricks.v1+cell": {
     "cellMetadata": {
      "byteLimit": 2048000,
      "rowLimit": 10000
     },
     "inputWidgets": {},
     "nuid": "70893dce-588a-4ac8-a893-1697422c19ed",
     "showTitle": false,
     "title": ""
    }
   },
   "outputs": [],
   "source": [
    "df_payments = spark.read.format('csv') \\\n",
    "                .option('inferSchema', 'false') \\\n",
    "                .option('header', 'false') \\\n",
    "                .option('sep', ',') \\\n",
    "                .load('dbfs:/FileStore/tables/payments.csv') \\\n",
    "                .toDF('payment_id', 'date', 'amount', 'rider_id')"
   ]
  },
  {
   "cell_type": "code",
   "execution_count": 0,
   "metadata": {
    "application/vnd.databricks.v1+cell": {
     "cellMetadata": {
      "byteLimit": 2048000,
      "rowLimit": 10000
     },
     "inputWidgets": {},
     "nuid": "5a4d0236-3cb2-4234-9a36-9b77e170b408",
     "showTitle": false,
     "title": ""
    }
   },
   "outputs": [
    {
     "output_type": "stream",
     "name": "stdout",
     "output_type": "stream",
     "text": [
      "root\n |-- payment_id: string (nullable = true)\n |-- date: string (nullable = true)\n |-- amount: string (nullable = true)\n |-- rider_id: string (nullable = true)\n\n"
     ]
    }
   ],
   "source": [
    "df_payments.printSchema()"
   ]
  },
  {
   "cell_type": "code",
   "execution_count": 0,
   "metadata": {
    "application/vnd.databricks.v1+cell": {
     "cellMetadata": {
      "byteLimit": 2048000,
      "rowLimit": 10000
     },
     "inputWidgets": {},
     "nuid": "9fb21f3b-6349-437e-998e-fa2575afd871",
     "showTitle": false,
     "title": ""
    }
   },
   "outputs": [
    {
     "output_type": "display_data",
     "data": {
      "text/html": [
       "<style scoped>\n",
       "  .table-result-container {\n",
       "    max-height: 300px;\n",
       "    overflow: auto;\n",
       "  }\n",
       "  table, th, td {\n",
       "    border: 1px solid black;\n",
       "    border-collapse: collapse;\n",
       "  }\n",
       "  th, td {\n",
       "    padding: 5px;\n",
       "  }\n",
       "  th {\n",
       "    text-align: left;\n",
       "  }\n",
       "</style><div class='table-result-container'><table class='table-result'><thead style='background-color: white'><tr><th>payment_id</th><th>date</th><th>amount</th><th>rider_id</th></tr></thead><tbody><tr><td>1</td><td>2019-05-01</td><td>9.0</td><td>1000</td></tr><tr><td>2</td><td>2019-06-01</td><td>9.0</td><td>1000</td></tr><tr><td>3</td><td>2019-07-01</td><td>9.0</td><td>1000</td></tr><tr><td>4</td><td>2019-08-01</td><td>9.0</td><td>1000</td></tr><tr><td>5</td><td>2019-09-01</td><td>9.0</td><td>1000</td></tr></tbody></table></div>"
      ]
     },
     "metadata": {
      "application/vnd.databricks.v1+output": {
       "addedWidgets": {},
       "aggData": [],
       "aggError": "",
       "aggOverflow": false,
       "aggSchema": [],
       "aggSeriesLimitReached": false,
       "aggType": "",
       "arguments": {},
       "columnCustomDisplayInfos": {},
       "data": [
        [
         "1",
         "2019-05-01",
         "9.0",
         "1000"
        ],
        [
         "2",
         "2019-06-01",
         "9.0",
         "1000"
        ],
        [
         "3",
         "2019-07-01",
         "9.0",
         "1000"
        ],
        [
         "4",
         "2019-08-01",
         "9.0",
         "1000"
        ],
        [
         "5",
         "2019-09-01",
         "9.0",
         "1000"
        ]
       ],
       "datasetInfos": [],
       "dbfsResultPath": null,
       "isJsonSchema": true,
       "metadata": {},
       "overflow": false,
       "plotOptions": {
        "customPlotOptions": {},
        "displayType": "table",
        "pivotAggregation": null,
        "pivotColumns": null,
        "xColumns": null,
        "yColumns": null
       },
       "removedWidgets": [],
       "schema": [
        {
         "metadata": "{}",
         "name": "payment_id",
         "type": "\"string\""
        },
        {
         "metadata": "{}",
         "name": "date",
         "type": "\"string\""
        },
        {
         "metadata": "{}",
         "name": "amount",
         "type": "\"string\""
        },
        {
         "metadata": "{}",
         "name": "rider_id",
         "type": "\"string\""
        }
       ],
       "type": "table"
      }
     },
     "output_type": "display_data"
    }
   ],
   "source": [
    "display(df_payments.limit(5))"
   ]
  },
  {
   "cell_type": "code",
   "execution_count": 0,
   "metadata": {
    "application/vnd.databricks.v1+cell": {
     "cellMetadata": {
      "byteLimit": 2048000,
      "rowLimit": 10000
     },
     "inputWidgets": {},
     "nuid": "2df2547a-6029-4edd-94ef-1f3767e9d4e5",
     "showTitle": false,
     "title": ""
    }
   },
   "outputs": [],
   "source": [
    "df_payments.write.format('delta') \\\n",
    "        .mode('overwrite') \\\n",
    "        .save('/delta/payments')"
   ]
  },
  {
   "cell_type": "markdown",
   "metadata": {
    "application/vnd.databricks.v1+cell": {
     "cellMetadata": {
      "byteLimit": 2048000,
      "rowLimit": 10000
     },
     "inputWidgets": {},
     "nuid": "015b8471-a67a-4f04-b19f-9104d6b6141f",
     "showTitle": false,
     "title": ""
    }
   },
   "source": [
    "## Riders"
   ]
  },
  {
   "cell_type": "code",
   "execution_count": 0,
   "metadata": {
    "application/vnd.databricks.v1+cell": {
     "cellMetadata": {
      "byteLimit": 2048000,
      "rowLimit": 10000
     },
     "inputWidgets": {},
     "nuid": "013bfe3a-20e4-4a6c-a805-e1d47bb9f658",
     "showTitle": false,
     "title": ""
    }
   },
   "outputs": [],
   "source": [
    "df_riders = spark.read.format(\"csv\") \\\n",
    "            .option(\"inferSchema\", \"true\") \\\n",
    "            .option(\"header\", \"false\") \\\n",
    "            .option(\"sep\", \",\") \\\n",
    "            .load(\"dbfs:/FileStore/tables/riders.csv\") \\\n",
    "            .toDF(\"rider_id\", \"first_name\", \"last_name\", \"address\", \"birthday\", \"account_start_date\", \"account_end_date\", \"is_member\")"
   ]
  },
  {
   "cell_type": "code",
   "execution_count": 0,
   "metadata": {
    "application/vnd.databricks.v1+cell": {
     "cellMetadata": {
      "byteLimit": 2048000,
      "rowLimit": 10000
     },
     "inputWidgets": {},
     "nuid": "aca1e752-8617-46f7-a631-e0519fd8e6cc",
     "showTitle": false,
     "title": ""
    }
   },
   "outputs": [
    {
     "output_type": "stream",
     "name": "stdout",
     "output_type": "stream",
     "text": [
      "root\n |-- rider_id: integer (nullable = true)\n |-- first_name: string (nullable = true)\n |-- last_name: string (nullable = true)\n |-- address: string (nullable = true)\n |-- birthday: date (nullable = true)\n |-- account_start_date: date (nullable = true)\n |-- account_end_date: date (nullable = true)\n |-- is_member: boolean (nullable = true)\n\n"
     ]
    }
   ],
   "source": [
    "df_riders.printSchema()"
   ]
  },
  {
   "cell_type": "code",
   "execution_count": 0,
   "metadata": {
    "application/vnd.databricks.v1+cell": {
     "cellMetadata": {
      "byteLimit": 2048000,
      "rowLimit": 10000
     },
     "inputWidgets": {},
     "nuid": "4b5d9f42-8ac3-4e9a-a1a9-7e254bb40189",
     "showTitle": false,
     "title": ""
    }
   },
   "outputs": [
    {
     "output_type": "display_data",
     "data": {
      "text/html": [
       "<style scoped>\n",
       "  .table-result-container {\n",
       "    max-height: 300px;\n",
       "    overflow: auto;\n",
       "  }\n",
       "  table, th, td {\n",
       "    border: 1px solid black;\n",
       "    border-collapse: collapse;\n",
       "  }\n",
       "  th, td {\n",
       "    padding: 5px;\n",
       "  }\n",
       "  th {\n",
       "    text-align: left;\n",
       "  }\n",
       "</style><div class='table-result-container'><table class='table-result'><thead style='background-color: white'><tr><th>rider_id</th><th>first_name</th><th>last_name</th><th>address</th><th>birthday</th><th>account_start_date</th><th>account_end_date</th><th>is_member</th></tr></thead><tbody><tr><td>1000</td><td>Diana</td><td>Clark</td><td>1200 Alyssa Squares</td><td>1989-02-13</td><td>2019-04-23</td><td>null</td><td>true</td></tr><tr><td>1001</td><td>Jennifer</td><td>Smith</td><td>397 Diana Ferry</td><td>1976-08-10</td><td>2019-11-01</td><td>2020-09-01</td><td>true</td></tr><tr><td>1002</td><td>Karen</td><td>Smith</td><td>644 Brittany Row Apt. 097</td><td>1998-08-10</td><td>2022-02-04</td><td>null</td><td>true</td></tr><tr><td>1003</td><td>Bryan</td><td>Roberts</td><td>996 Dickerson Turnpike</td><td>1999-03-29</td><td>2019-08-26</td><td>null</td><td>false</td></tr><tr><td>1004</td><td>Jesse</td><td>Middleton</td><td>7009 Nathan Expressway</td><td>1969-04-11</td><td>2019-09-14</td><td>null</td><td>true</td></tr></tbody></table></div>"
      ]
     },
     "metadata": {
      "application/vnd.databricks.v1+output": {
       "addedWidgets": {},
       "aggData": [],
       "aggError": "",
       "aggOverflow": false,
       "aggSchema": [],
       "aggSeriesLimitReached": false,
       "aggType": "",
       "arguments": {},
       "columnCustomDisplayInfos": {},
       "data": [
        [
         1000,
         "Diana",
         "Clark",
         "1200 Alyssa Squares",
         "1989-02-13",
         "2019-04-23",
         null,
         true
        ],
        [
         1001,
         "Jennifer",
         "Smith",
         "397 Diana Ferry",
         "1976-08-10",
         "2019-11-01",
         "2020-09-01",
         true
        ],
        [
         1002,
         "Karen",
         "Smith",
         "644 Brittany Row Apt. 097",
         "1998-08-10",
         "2022-02-04",
         null,
         true
        ],
        [
         1003,
         "Bryan",
         "Roberts",
         "996 Dickerson Turnpike",
         "1999-03-29",
         "2019-08-26",
         null,
         false
        ],
        [
         1004,
         "Jesse",
         "Middleton",
         "7009 Nathan Expressway",
         "1969-04-11",
         "2019-09-14",
         null,
         true
        ]
       ],
       "datasetInfos": [],
       "dbfsResultPath": null,
       "isJsonSchema": true,
       "metadata": {},
       "overflow": false,
       "plotOptions": {
        "customPlotOptions": {},
        "displayType": "table",
        "pivotAggregation": null,
        "pivotColumns": null,
        "xColumns": null,
        "yColumns": null
       },
       "removedWidgets": [],
       "schema": [
        {
         "metadata": "{}",
         "name": "rider_id",
         "type": "\"integer\""
        },
        {
         "metadata": "{}",
         "name": "first_name",
         "type": "\"string\""
        },
        {
         "metadata": "{}",
         "name": "last_name",
         "type": "\"string\""
        },
        {
         "metadata": "{}",
         "name": "address",
         "type": "\"string\""
        },
        {
         "metadata": "{\"__detected_date_formats\":\"yyyy-M-d\"}",
         "name": "birthday",
         "type": "\"date\""
        },
        {
         "metadata": "{\"__detected_date_formats\":\"yyyy-M-d\"}",
         "name": "account_start_date",
         "type": "\"date\""
        },
        {
         "metadata": "{\"__detected_date_formats\":\"yyyy-M-d\"}",
         "name": "account_end_date",
         "type": "\"date\""
        },
        {
         "metadata": "{}",
         "name": "is_member",
         "type": "\"boolean\""
        }
       ],
       "type": "table"
      }
     },
     "output_type": "display_data"
    }
   ],
   "source": [
    "display(df_riders.limit(5))"
   ]
  },
  {
   "cell_type": "code",
   "execution_count": 0,
   "metadata": {
    "application/vnd.databricks.v1+cell": {
     "cellMetadata": {
      "byteLimit": 2048000,
      "rowLimit": 10000
     },
     "inputWidgets": {},
     "nuid": "27472ddb-f617-4fe6-b5e8-cbf50b9ef94b",
     "showTitle": false,
     "title": ""
    }
   },
   "outputs": [],
   "source": [
    "df_riders.write.format(\"delta\") \\\n",
    "        .mode(\"overwrite\") \\\n",
    "        .save(\"/delta/riders\")"
   ]
  },
  {
   "cell_type": "markdown",
   "metadata": {
    "application/vnd.databricks.v1+cell": {
     "cellMetadata": {
      "byteLimit": 2048000,
      "rowLimit": 10000
     },
     "inputWidgets": {},
     "nuid": "2a6e1641-3a30-46ac-b904-77ce31676882",
     "showTitle": false,
     "title": ""
    }
   },
   "source": [
    "## Stations"
   ]
  },
  {
   "cell_type": "code",
   "execution_count": 0,
   "metadata": {
    "application/vnd.databricks.v1+cell": {
     "cellMetadata": {
      "byteLimit": 2048000,
      "rowLimit": 10000
     },
     "inputWidgets": {},
     "nuid": "a37db1a0-d087-4273-9804-e45f1c582572",
     "showTitle": false,
     "title": ""
    }
   },
   "outputs": [],
   "source": [
    "df_stations = spark.read.format(\"csv\") \\\n",
    "            .option(\"inferSchema\", \"true\") \\\n",
    "            .option(\"header\", \"false\") \\\n",
    "            .option(\"sep\", \",\") \\\n",
    "            .load(\"dbfs:/FileStore/tables/stations.csv\") \\\n",
    "            .toDF(\"station_id\", \"name\", \"latitude\", \"longitude\")"
   ]
  },
  {
   "cell_type": "code",
   "execution_count": 0,
   "metadata": {
    "application/vnd.databricks.v1+cell": {
     "cellMetadata": {
      "byteLimit": 2048000,
      "rowLimit": 10000
     },
     "inputWidgets": {},
     "nuid": "56a573f1-d052-41b5-846d-530797c9f759",
     "showTitle": false,
     "title": ""
    }
   },
   "outputs": [
    {
     "output_type": "stream",
     "name": "stdout",
     "output_type": "stream",
     "text": [
      "root\n |-- station_id: string (nullable = true)\n |-- name: string (nullable = true)\n |-- latitude: double (nullable = true)\n |-- longitude: double (nullable = true)\n\n"
     ]
    }
   ],
   "source": [
    "df_stations.printSchema()"
   ]
  },
  {
   "cell_type": "code",
   "execution_count": 0,
   "metadata": {
    "application/vnd.databricks.v1+cell": {
     "cellMetadata": {
      "byteLimit": 2048000,
      "rowLimit": 10000
     },
     "inputWidgets": {},
     "nuid": "bac0711d-cc4e-4c7f-b45c-2ebc5358abfe",
     "showTitle": false,
     "title": ""
    }
   },
   "outputs": [
    {
     "output_type": "display_data",
     "data": {
      "text/html": [
       "<style scoped>\n",
       "  .table-result-container {\n",
       "    max-height: 300px;\n",
       "    overflow: auto;\n",
       "  }\n",
       "  table, th, td {\n",
       "    border: 1px solid black;\n",
       "    border-collapse: collapse;\n",
       "  }\n",
       "  th, td {\n",
       "    padding: 5px;\n",
       "  }\n",
       "  th {\n",
       "    text-align: left;\n",
       "  }\n",
       "</style><div class='table-result-container'><table class='table-result'><thead style='background-color: white'><tr><th>station_id</th><th>name</th><th>latitude</th><th>longitude</th></tr></thead><tbody><tr><td>525</td><td>Glenwood Ave & Touhy Ave</td><td>42.012701</td><td>-87.66605799999999</td></tr><tr><td>KA1503000012</td><td>Clark St & Lake St</td><td>41.88579466666667</td><td>-87.63110066666668</td></tr><tr><td>637</td><td>Wood St & Chicago Ave</td><td>41.895634</td><td>-87.672069</td></tr><tr><td>13216</td><td>State St & 33rd St</td><td>41.8347335</td><td>-87.6258275</td></tr><tr><td>18003</td><td>Fairbanks St & Superior St</td><td>41.89580766666667</td><td>-87.62025316666669</td></tr></tbody></table></div>"
      ]
     },
     "metadata": {
      "application/vnd.databricks.v1+output": {
       "addedWidgets": {},
       "aggData": [],
       "aggError": "",
       "aggOverflow": false,
       "aggSchema": [],
       "aggSeriesLimitReached": false,
       "aggType": "",
       "arguments": {},
       "columnCustomDisplayInfos": {},
       "data": [
        [
         "525",
         "Glenwood Ave & Touhy Ave",
         42.012701,
         -87.66605799999999
        ],
        [
         "KA1503000012",
         "Clark St & Lake St",
         41.88579466666667,
         -87.63110066666668
        ],
        [
         "637",
         "Wood St & Chicago Ave",
         41.895634,
         -87.672069
        ],
        [
         "13216",
         "State St & 33rd St",
         41.8347335,
         -87.6258275
        ],
        [
         "18003",
         "Fairbanks St & Superior St",
         41.89580766666667,
         -87.62025316666669
        ]
       ],
       "datasetInfos": [],
       "dbfsResultPath": null,
       "isJsonSchema": true,
       "metadata": {},
       "overflow": false,
       "plotOptions": {
        "customPlotOptions": {},
        "displayType": "table",
        "pivotAggregation": null,
        "pivotColumns": null,
        "xColumns": null,
        "yColumns": null
       },
       "removedWidgets": [],
       "schema": [
        {
         "metadata": "{}",
         "name": "station_id",
         "type": "\"string\""
        },
        {
         "metadata": "{}",
         "name": "name",
         "type": "\"string\""
        },
        {
         "metadata": "{}",
         "name": "latitude",
         "type": "\"double\""
        },
        {
         "metadata": "{}",
         "name": "longitude",
         "type": "\"double\""
        }
       ],
       "type": "table"
      }
     },
     "output_type": "display_data"
    }
   ],
   "source": [
    "display(df_stations.limit(5))"
   ]
  },
  {
   "cell_type": "code",
   "execution_count": 0,
   "metadata": {
    "application/vnd.databricks.v1+cell": {
     "cellMetadata": {
      "byteLimit": 2048000,
      "rowLimit": 10000
     },
     "inputWidgets": {},
     "nuid": "70c92065-ff91-46ef-8585-86d72f3e44af",
     "showTitle": false,
     "title": ""
    }
   },
   "outputs": [],
   "source": [
    "df_stations.write.format(\"delta\") \\\n",
    "        .mode(\"overwrite\") \\\n",
    "        .save(\"/delta/stations\")"
   ]
  },
  {
   "cell_type": "markdown",
   "metadata": {
    "application/vnd.databricks.v1+cell": {
     "cellMetadata": {
      "byteLimit": 2048000,
      "rowLimit": 10000
     },
     "inputWidgets": {},
     "nuid": "e770df56-5ed6-4d76-bc03-a9029532c6ae",
     "showTitle": false,
     "title": ""
    }
   },
   "source": [
    "## Trips"
   ]
  },
  {
   "cell_type": "code",
   "execution_count": 0,
   "metadata": {
    "application/vnd.databricks.v1+cell": {
     "cellMetadata": {
      "byteLimit": 2048000,
      "rowLimit": 10000
     },
     "inputWidgets": {},
     "nuid": "85066796-2b7a-4757-bfcb-7c14fdf0a8fc",
     "showTitle": false,
     "title": ""
    }
   },
   "outputs": [],
   "source": [
    "df_trips = spark.read.format(\"csv\") \\\n",
    "            .option(\"inferSchema\", \"true\") \\\n",
    "            .option(\"header\", \"false\") \\\n",
    "            .option(\"sep\", \",\") \\\n",
    "            .load(\"dbfs:/FileStore/tables/trips.csv\") \\\n",
    "            .toDF(\"trip_id\", \"rideable_type\", \"start_at\", \"ended_at\", \"start_station_id\", \"end_station_id\", \"rider_id\")"
   ]
  },
  {
   "cell_type": "code",
   "execution_count": 0,
   "metadata": {
    "application/vnd.databricks.v1+cell": {
     "cellMetadata": {
      "byteLimit": 2048000,
      "rowLimit": 10000
     },
     "inputWidgets": {},
     "nuid": "df5baa30-7ac6-4a02-9577-a1e1ff5542d6",
     "showTitle": false,
     "title": ""
    }
   },
   "outputs": [
    {
     "output_type": "stream",
     "name": "stdout",
     "output_type": "stream",
     "text": [
      "root\n |-- trip_id: string (nullable = true)\n |-- rideable_type: string (nullable = true)\n |-- start_at: timestamp (nullable = true)\n |-- ended_at: timestamp (nullable = true)\n |-- start_station_id: string (nullable = true)\n |-- end_station_id: string (nullable = true)\n |-- rider_id: integer (nullable = true)\n\n"
     ]
    }
   ],
   "source": [
    "df_trips.printSchema()"
   ]
  },
  {
   "cell_type": "code",
   "execution_count": 0,
   "metadata": {
    "application/vnd.databricks.v1+cell": {
     "cellMetadata": {
      "byteLimit": 2048000,
      "rowLimit": 10000
     },
     "inputWidgets": {},
     "nuid": "2dbcdd0b-3ce8-4bb9-bdac-6227650e4990",
     "showTitle": false,
     "title": ""
    }
   },
   "outputs": [
    {
     "output_type": "display_data",
     "data": {
      "text/html": [
       "<style scoped>\n",
       "  .table-result-container {\n",
       "    max-height: 300px;\n",
       "    overflow: auto;\n",
       "  }\n",
       "  table, th, td {\n",
       "    border: 1px solid black;\n",
       "    border-collapse: collapse;\n",
       "  }\n",
       "  th, td {\n",
       "    padding: 5px;\n",
       "  }\n",
       "  th {\n",
       "    text-align: left;\n",
       "  }\n",
       "</style><div class='table-result-container'><table class='table-result'><thead style='background-color: white'><tr><th>trip_id</th><th>rideable_type</th><th>start_at</th><th>ended_at</th><th>start_station_id</th><th>end_station_id</th><th>rider_id</th></tr></thead><tbody><tr><td>89E7AA6C29227EFF</td><td>classic_bike</td><td>2021-02-12T16:14:56.000+0000</td><td>2021-02-12T16:21:43.000+0000</td><td>525</td><td>660</td><td>71934</td></tr><tr><td>0FEFDE2603568365</td><td>classic_bike</td><td>2021-02-14T17:52:38.000+0000</td><td>2021-02-14T18:12:09.000+0000</td><td>525</td><td>16806</td><td>47854</td></tr><tr><td>E6159D746B2DBB91</td><td>electric_bike</td><td>2021-02-09T19:10:18.000+0000</td><td>2021-02-09T19:19:10.000+0000</td><td>KA1503000012</td><td>TA1305000029</td><td>70870</td></tr><tr><td>B32D3199F1C2E75B</td><td>classic_bike</td><td>2021-02-02T17:49:41.000+0000</td><td>2021-02-02T17:54:06.000+0000</td><td>637</td><td>TA1305000034</td><td>58974</td></tr><tr><td>83E463F23575F4BF</td><td>electric_bike</td><td>2021-02-23T15:07:23.000+0000</td><td>2021-02-23T15:22:37.000+0000</td><td>13216</td><td>TA1309000055</td><td>39608</td></tr></tbody></table></div>"
      ]
     },
     "metadata": {
      "application/vnd.databricks.v1+output": {
       "addedWidgets": {},
       "aggData": [],
       "aggError": "",
       "aggOverflow": false,
       "aggSchema": [],
       "aggSeriesLimitReached": false,
       "aggType": "",
       "arguments": {},
       "columnCustomDisplayInfos": {},
       "data": [
        [
         "89E7AA6C29227EFF",
         "classic_bike",
         "2021-02-12T16:14:56.000+0000",
         "2021-02-12T16:21:43.000+0000",
         "525",
         "660",
         71934
        ],
        [
         "0FEFDE2603568365",
         "classic_bike",
         "2021-02-14T17:52:38.000+0000",
         "2021-02-14T18:12:09.000+0000",
         "525",
         "16806",
         47854
        ],
        [
         "E6159D746B2DBB91",
         "electric_bike",
         "2021-02-09T19:10:18.000+0000",
         "2021-02-09T19:19:10.000+0000",
         "KA1503000012",
         "TA1305000029",
         70870
        ],
        [
         "B32D3199F1C2E75B",
         "classic_bike",
         "2021-02-02T17:49:41.000+0000",
         "2021-02-02T17:54:06.000+0000",
         "637",
         "TA1305000034",
         58974
        ],
        [
         "83E463F23575F4BF",
         "electric_bike",
         "2021-02-23T15:07:23.000+0000",
         "2021-02-23T15:22:37.000+0000",
         "13216",
         "TA1309000055",
         39608
        ]
       ],
       "datasetInfos": [],
       "dbfsResultPath": null,
       "isJsonSchema": true,
       "metadata": {},
       "overflow": false,
       "plotOptions": {
        "customPlotOptions": {},
        "displayType": "table",
        "pivotAggregation": null,
        "pivotColumns": null,
        "xColumns": null,
        "yColumns": null
       },
       "removedWidgets": [],
       "schema": [
        {
         "metadata": "{}",
         "name": "trip_id",
         "type": "\"string\""
        },
        {
         "metadata": "{}",
         "name": "rideable_type",
         "type": "\"string\""
        },
        {
         "metadata": "{}",
         "name": "start_at",
         "type": "\"timestamp\""
        },
        {
         "metadata": "{}",
         "name": "ended_at",
         "type": "\"timestamp\""
        },
        {
         "metadata": "{}",
         "name": "start_station_id",
         "type": "\"string\""
        },
        {
         "metadata": "{}",
         "name": "end_station_id",
         "type": "\"string\""
        },
        {
         "metadata": "{}",
         "name": "rider_id",
         "type": "\"integer\""
        }
       ],
       "type": "table"
      }
     },
     "output_type": "display_data"
    }
   ],
   "source": [
    "display(df_trips.limit(5))"
   ]
  },
  {
   "cell_type": "code",
   "execution_count": 0,
   "metadata": {
    "application/vnd.databricks.v1+cell": {
     "cellMetadata": {
      "byteLimit": 2048000,
      "rowLimit": 10000
     },
     "inputWidgets": {},
     "nuid": "22591bce-0f19-4374-bd12-3096af9063b3",
     "showTitle": false,
     "title": ""
    }
   },
   "outputs": [],
   "source": [
    "df_trips.write.format(\"delta\") \\\n",
    "        .mode(\"overwrite\") \\\n",
    "        .save(\"/delta/trips\")"
   ]
  }
 ],
 "metadata": {
  "application/vnd.databricks.v1+notebook": {
   "dashboards": [],
   "language": "python",
   "notebookMetadata": {
    "pythonIndentUnit": 4
   },
   "notebookName": "Extract",
   "widgets": {}
  }
 },
 "nbformat": 4,
 "nbformat_minor": 0
}
